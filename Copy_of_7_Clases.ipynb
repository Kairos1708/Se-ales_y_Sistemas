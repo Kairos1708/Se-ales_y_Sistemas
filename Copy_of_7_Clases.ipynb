{
  "nbformat": 4,
  "nbformat_minor": 0,
  "metadata": {
    "colab": {
      "provenance": [],
      "include_colab_link": true
    },
    "kernelspec": {
      "name": "python3",
      "display_name": "Python 3"
    },
    "language_info": {
      "name": "python"
    }
  },
  "cells": [
    {
      "cell_type": "markdown",
      "metadata": {
        "id": "view-in-github",
        "colab_type": "text"
      },
      "source": [
        "<a href=\"https://colab.research.google.com/github/Kairos1708/Se-ales_y_Sistemas/blob/main/Copy_of_7_Clases.ipynb\" target=\"_parent\"><img src=\"https://colab.research.google.com/assets/colab-badge.svg\" alt=\"Open In Colab\"/></a>"
      ]
    },
    {
      "cell_type": "markdown",
      "source": [
        "# Clases en python.\n",
        "\n",
        "Las clases son una forma de organizar y estructurar el código en Python. Pueden contener funciones y variables, lo que las hace muy versátiles. Las clases son una parte fundamental de la programación orientada a objetos (POO).\n",
        "\n",
        "La POO es un paradigma de programación que utiliza objetos para representar entidades del mundo real. Por ejemplo, una clase \"Coche\" podría representar un coche del mundo real, con sus propiedades (marca, modelo, color, etc.) y sus métodos (acelerar, frenar, girar, etc.).\n",
        "\n",
        "\n",
        "En términos simples, una clase en programación es una plantilla o molde que se utiliza para crear objetos. La clase define las propiedades y los comportamientos de los objetos que se crean a partir de ella.\n",
        "\n",
        "**Ejemplo**:\n",
        "\n",
        "Piensa en una clase como si fuera un plano para construir un edificio. El plano especifica cómo debe ser el edificio, incluyendo el número de pisos, el número de habitaciones, el tamaño de las ventanas, etc.\n",
        "\n",
        "De manera similar, una clase define las características y comportamientos que tendrá un objeto. Por ejemplo, si tenemos una clase \"Coche\", podemos definir las propiedades de un coche, como su marca, modelo, color, etc. y los comportamientos que tiene un coche, como acelerar, frenar y girar. Luego, podemos crear múltiples objetos \"coche\" a partir de esta clase, cada uno con sus propias propiedades y comportamientos.\n",
        "\n"
      ],
      "metadata": {
        "id": "hFnAE4eorCHN"
      }
    },
    {
      "cell_type": "markdown",
      "source": [
        "### **Crear una clase**\n",
        "\n",
        "Para crear una clase en Python, usamos la palabra clave \"class\", seguida del nombre de la clase:"
      ],
      "metadata": {
        "id": "E-tNF60K_9b9"
      }
    },
    {
      "cell_type": "code",
      "execution_count": null,
      "metadata": {
        "id": "hi8DOAlZmPjH",
        "colab": {
          "base_uri": "https://localhost:8080/",
          "height": 143
        },
        "outputId": "811d50a3-b874-4f85-f5a3-897a106cb617"
      },
      "outputs": [
        {
          "output_type": "error",
          "ename": "SyntaxError",
          "evalue": "ignored",
          "traceback": [
            "\u001b[0;36m  File \u001b[0;32m\"<ipython-input-1-0bc96e81d1fc>\"\u001b[0;36m, line \u001b[0;32m1\u001b[0m\n\u001b[0;31m    class Coche:\u001b[0m\n\u001b[0m                ^\u001b[0m\n\u001b[0;31mSyntaxError\u001b[0m\u001b[0;31m:\u001b[0m incomplete input\n"
          ]
        }
      ],
      "source": [
        "class Coche:"
      ]
    },
    {
      "cell_type": "markdown",
      "source": [
        "Dentro de la clase, podemos definir variables y funciones. Las variables se llaman \"atributos\" y las funciones se llaman \"métodos\"."
      ],
      "metadata": {
        "id": "aTnx3vjGAIh7"
      }
    },
    {
      "cell_type": "markdown",
      "source": [
        "#### **Atributos**\n",
        "\n",
        "Los atributos son variables que pertenecen a una clase. Por ejemplo, en una clase \"Coche\", los atributos podrían ser \"marca\", \"modelo\" y \"color\". Para definir un atributo, lo hacemos dentro de la clase, pero fuera de cualquier método:"
      ],
      "metadata": {
        "id": "DT2TvFHxAJlz"
      }
    },
    {
      "cell_type": "code",
      "source": [
        "class Coche:\n",
        "    marca = \"Toyota\"\n",
        "    modelo = \"Corolla\"\n",
        "    color = \"Rojo\""
      ],
      "metadata": {
        "id": "sfC5pdD7ANuq"
      },
      "execution_count": null,
      "outputs": []
    },
    {
      "cell_type": "markdown",
      "source": [
        "#### **Métodos**\n",
        "\n",
        "Los métodos son funciones que pertenecen a una clase. Por ejemplo, en una clase \"Coche\", los métodos podrían ser \"acelerar\", \"frenar\" y \"girar\". Para definir un método, lo hacemos dentro de la clase:\n",
        "\n"
      ],
      "metadata": {
        "id": "1TDchxG8ASQD"
      }
    },
    {
      "cell_type": "code",
      "source": [
        "class Coche:\n",
        "    marca = \"Toyota\"\n",
        "    modelo = \"Corolla\"\n",
        "    color = \"Rojo\"\n",
        "\n",
        "    def acelerar(self):\n",
        "        print(\"El coche está acelerando\")\n",
        "\n",
        "    def frenar(self):\n",
        "        print(\"El coche está frenando\")\n",
        "\n",
        "    def girar(self, direccion):\n",
        "        print(\"El coche está girando hacia \" + direccion)"
      ],
      "metadata": {
        "id": "q33frF1wAX9C"
      },
      "execution_count": null,
      "outputs": []
    },
    {
      "cell_type": "markdown",
      "source": [
        "**Nota**: El primer parámetro de un método siempre es \"self\". Este parámetro hace referencia al objeto que se está creando. Por ejemplo, si creamos un objeto \"coche\" a partir de la clase \"Coche\", al llamar al método \"acelerar\", el objeto \"coche\" se pasará automáticamente como primer parámetro."
      ],
      "metadata": {
        "id": "o41PexstAdY6"
      }
    },
    {
      "cell_type": "markdown",
      "source": [
        "### **Crear un objeto**\n",
        "\n",
        "Para crear un objeto a partir de una clase, simplemente hacemos lo siguiente:"
      ],
      "metadata": {
        "id": "hnRv4ZMtAgt7"
      }
    },
    {
      "cell_type": "code",
      "source": [
        "coche = Coche()"
      ],
      "metadata": {
        "id": "4TlvhlD1Alrs"
      },
      "execution_count": null,
      "outputs": []
    },
    {
      "cell_type": "markdown",
      "source": [
        "Esto crea un objeto \"coche\" a partir de la clase \"Coche\". Podemos acceder a los atributos y métodos del objeto de la siguiente manera:"
      ],
      "metadata": {
        "id": "fMCPalavAm-D"
      }
    },
    {
      "cell_type": "code",
      "source": [
        "print(coche.marca)\n",
        "print(coche.modelo)\n",
        "print(coche.color)\n",
        "\n",
        "coche.acelerar()\n",
        "coche.frenar()\n",
        "coche.girar(\"izquierda\")"
      ],
      "metadata": {
        "id": "HZAkrbk7Aoti",
        "colab": {
          "base_uri": "https://localhost:8080/"
        },
        "outputId": "16ae645a-5c8f-479a-9599-d6fc4875c6f8"
      },
      "execution_count": null,
      "outputs": [
        {
          "output_type": "stream",
          "name": "stdout",
          "text": [
            "Toyota\n",
            "Corolla\n",
            "Rojo\n",
            "El coche está acelerando\n",
            "El coche está frenando\n",
            "El coche está girando hacia izquierda\n"
          ]
        }
      ]
    },
    {
      "cell_type": "markdown",
      "source": [
        "### Ejemplo_1\n",
        "\n",
        "En este ejemplo, podríamos crear una clase llamada \"Perro\" que tenga atributos como nombre, raza, edad, tamaño, y métodos como ladrar, correr, morder, etc."
      ],
      "metadata": {
        "id": "TR-xIdH1AqQL"
      }
    },
    {
      "cell_type": "code",
      "source": [
        "class Perro:\n",
        "    def __init__(self, nombre, raza, edad, tamaño):\n",
        "        self.nombre = nombre\n",
        "        self.raza = raza\n",
        "        self.edad = edad\n",
        "        self.tamaño = tamaño\n",
        "\n",
        "    def ladrar(self):\n",
        "        print(f\"{self.nombre} está ladrando.\")\n",
        "\n",
        "    def correr(self):\n",
        "        print(f\"{self.nombre} está corriendo.\")\n",
        "\n",
        "    def morder(self):\n",
        "        print(f\"{self.nombre} está mordiendo.\")"
      ],
      "metadata": {
        "id": "Rk7z54NkA9OK"
      },
      "execution_count": null,
      "outputs": []
    },
    {
      "cell_type": "markdown",
      "source": [
        "En este ejemplo, la función '__init__' es el constructor de la clase, que se utiliza para inicializar los atributos de la clase. Luego, se definen los métodos ladrar, correr y morder que describen los comportamientos que puede tener un perro.\n",
        "\n",
        "Podemos crear objetos de la clase \"Perro\" de la siguiente manera:"
      ],
      "metadata": {
        "id": "KLr8hp8oA6ai"
      }
    },
    {
      "cell_type": "code",
      "source": [
        "perro1 = Perro(\"Fido\", \"Labrador\", 3, \"Grande\")\n",
        "perro2 = Perro(\"Toby\", \"Chihuahua\", 2, \"Pequeño\")"
      ],
      "metadata": {
        "id": "N2HsvjXhA-jB"
      },
      "execution_count": null,
      "outputs": []
    },
    {
      "cell_type": "markdown",
      "source": [
        "Cada objeto creado a partir de la clase \"Perro\" tendrá sus propios atributos y comportamientos. Por ejemplo, podemos llamar al método ladrar del objeto perro1 de la siguiente manera"
      ],
      "metadata": {
        "id": "fQEU8p17Cayg"
      }
    },
    {
      "cell_type": "code",
      "source": [
        "perro1.ladrar()"
      ],
      "metadata": {
        "id": "rhS8cNz8Calx",
        "outputId": "92dbf61e-0c65-4761-bb96-7d8381534e79",
        "colab": {
          "base_uri": "https://localhost:8080/"
        }
      },
      "execution_count": null,
      "outputs": [
        {
          "output_type": "stream",
          "name": "stdout",
          "text": [
            "Fido está ladrando.\n"
          ]
        }
      ]
    },
    {
      "cell_type": "markdown",
      "source": [
        "### Ejercicio_2\n",
        "\n",
        "Supongamos que estás construyendo un sistema de tienda en línea en Python. El sistema necesita manejar muchos productos diferentes, cada uno con sus propias propiedades como nombre, descripción, precio, inventario, etc. También necesita manejar diferentes clientes y sus órdenes de compra."
      ],
      "metadata": {
        "id": "tDvFelEXCtPB"
      }
    },
    {
      "cell_type": "markdown",
      "source": [
        "**¿Cómo podemos hacerlo?**\n",
        "\n",
        "Por ejemplo, podríamos crear una clase \"Producto\" que tenga atributos como nombre, descripción, precio, inventario, etc., y métodos para agregar y eliminar productos del inventario.\n",
        "\n",
        "De manera similar, podríamos crear una clase \"Cliente\" que tenga atributos como nombre, dirección de correo electrónico, historial de compras, etc., y métodos para realizar pedidos y revisar su historial de compras.\n",
        "\n",
        "Finalmente, podríamos crear una clase \"Orden\" que tenga atributos como los productos que se compraron, la cantidad, el costo total, etc., y métodos para confirmar la orden y actualizar el inventario.\n"
      ],
      "metadata": {
        "id": "WBaNntfvDcnQ"
      }
    },
    {
      "cell_type": "code",
      "source": [
        "class Producto:\n",
        "    def __init__(self, nombre, descripcion, precio, inventario):\n",
        "        self.nombre = nombre\n",
        "        self.descripcion = descripcion\n",
        "        self.precio = precio\n",
        "        self.inventario = inventario\n",
        "\n",
        "    def agregar_inventario(self, cantidad):\n",
        "        self.inventario += cantidad\n",
        "\n",
        "    def eliminar_inventario(self, cantidad):\n",
        "        self.inventario -= cantidad"
      ],
      "metadata": {
        "id": "fPeeKFK3Dil2"
      },
      "execution_count": null,
      "outputs": []
    },
    {
      "cell_type": "markdown",
      "source": [
        "En este ejemplo, la función __init__ es el constructor de la clase \"Producto\" y se utiliza para inicializar los atributos de la clase. Los métodos agregar_inventario y eliminar_inventario se utilizan para agregar o eliminar productos del inventario.\n",
        "\n",
        "Con estas clases, podemos manejar fácilmente la información de los productos, los clientes y las órdenes de compra en nuestro sistema de tienda en línea"
      ],
      "metadata": {
        "id": "xxxNYz0FDoUf"
      }
    },
    {
      "cell_type": "markdown",
      "source": [
        "## Ejercicios\n",
        "\n",
        "1. Crea una clase \"Persona\" que tenga atributos como nombre, edad, género y métodos para presentarse y saludar a otras personas.\n",
        "\n",
        "2. Crea una clase \"Coche\" que tenga atributos como marca, modelo, año, kilometraje y métodos para arrancar, acelerar y frenar.\n",
        "\n",
        "3. Crea una clase \"Rectángulo\" que tenga atributos como longitud y ancho y métodos para calcular el área y el perímetro.\n",
        "\n",
        "4. Crea una clase \"Banco\" que tenga atributos como nombre, dirección y métodos para abrir una cuenta, depositar dinero, retirar dinero y revisar el saldo.\n",
        "\n",
        "5. Crea una clase \"Estudiante\" que tenga atributos como nombre, edad, promedio y métodos para estudiar, hacer tareas y presentar exámenes."
      ],
      "metadata": {
        "id": "laT0U1q4D0eP"
      }
    },
    {
      "cell_type": "code",
      "source": [
        "class Persona:\n",
        "    def __init__(self, nombre, edad, genero):\n",
        "        self.nombre = nombre\n",
        "        self.edad = edad\n",
        "        self.genero= genero\n",
        "\n",
        "\n",
        "    def presentacion(self):\n",
        "\n",
        "        print(f\"Mucho gusto, mi nombre es {self.nombre} soy {self.genero} y tengo {self.edad} años\")\n",
        "\n",
        "    def saludo(self):\n",
        "\n",
        "        print(f\"Hola, me llamo {self.nombre} \")\n",
        "\n",
        "\n",
        "\n",
        "Humano = Persona(\"Juan\", \"21\", \"Hombre\")\n",
        "Humano.presentacion()\n",
        "Humano.saludo()"
      ],
      "metadata": {
        "id": "xnh8KjtgG-2A",
        "outputId": "29a730a5-e623-45a4-fcfb-2f550e412e85",
        "colab": {
          "base_uri": "https://localhost:8080/"
        }
      },
      "execution_count": null,
      "outputs": [
        {
          "output_type": "stream",
          "name": "stdout",
          "text": [
            "Mucho gusto, mi nombre es Juan soy Hombre y tengo 21 años\n",
            "Hola, me llamo Juan \n"
          ]
        }
      ]
    },
    {
      "cell_type": "code",
      "source": [
        "class Coche:\n",
        "    def __init__(self, marca, modelo, año, kilometraje):\n",
        "        self.marca = marca\n",
        "        self.modelo = modelo\n",
        "        self.año = año\n",
        "        self.kilometraje = kilometraje\n",
        "\n",
        "\n",
        "    def reporte (self):\n",
        "\n",
        "        print(f\"El vehículo en cuestión es marca {self.marca} familia {self.modelo} del año {self.año} y tiene un kilometraje de: {self.kilometraje}km\")\n",
        "\n",
        "    def arrancar(self):\n",
        "\n",
        "        print(f\"El carro marca {self.marca} arrancó\")\n",
        "\n",
        "\n",
        "    def acelerar(self):\n",
        "\n",
        "        print(\"El carro está acelerando\")\n",
        "\n",
        "    def frenar(self):\n",
        "\n",
        "        print(\"El carro ha frenado\")\n",
        "\n",
        "\n",
        "carro = Coche(\"Renault\", \"Sandero\", \"2014\", 50000)\n",
        "\n",
        "carro.reporte()\n",
        "carro.arrancar()"
      ],
      "metadata": {
        "id": "zGgoudJLnIE0",
        "outputId": "673525fa-c25a-4e2d-8adf-a4c60570af8c",
        "colab": {
          "base_uri": "https://localhost:8080/"
        }
      },
      "execution_count": null,
      "outputs": [
        {
          "output_type": "stream",
          "name": "stdout",
          "text": [
            "El vehículo en cuestión es marca Renault familia Sandero del año 2014 y tiene un kilometraje de: 50000km\n",
            "El carro marca Renault arrancó\n"
          ]
        }
      ]
    },
    {
      "cell_type": "code",
      "source": [
        "class Rectangulo:\n",
        "    def __init__(self, longitud_1, longitud_2, ancho):\n",
        "        self.longitud_1 = longitud_1\n",
        "        self.longitud_2 = longitud_2\n",
        "        self.ancho = ancho\n",
        "\n",
        "    def perimetro(self, longitud_1, longitud_2):\n",
        "\n",
        "        per = (2*longitud_1) + (2*longitud_2)\n",
        "        print(\"El perímetro de la figura es:\",per, \"cm\")\n",
        "\n",
        "    def area(self, longitud_1, longitud_2):\n",
        "\n",
        "        ar= longitud_1*longitud_2\n",
        "        print(\"El area de la figura es:\",ar, \"cm\")\n",
        "\n",
        "\n",
        "\n",
        "\n",
        "Figura = Rectangulo(2, 4, 9)\n",
        "Figura.perimetro(2,4)\n",
        "Figura.area(2,4)"
      ],
      "metadata": {
        "id": "2dQR98x9nNWj",
        "outputId": "c6f87bcf-ae77-4545-c136-1a207af2702d",
        "colab": {
          "base_uri": "https://localhost:8080/"
        }
      },
      "execution_count": null,
      "outputs": [
        {
          "output_type": "stream",
          "name": "stdout",
          "text": [
            "El perímetro de la figura es: 12 cm\n",
            "El area de la figura es: 8 cm\n"
          ]
        }
      ]
    },
    {
      "cell_type": "code",
      "source": [
        "import random\n",
        "\n",
        "class Banco:\n",
        "    def __init__(self, nombre, direccion, saldo):\n",
        "        self.nombre = nombre\n",
        "        self.direccion = direccion\n",
        "        self.saldo = saldo\n",
        "\n",
        "    def Crear_cuenta(self, nombre, saldo):\n",
        "\n",
        "        print(f\"Hola, {self.nombre} Vamos a crear su nueva cuenta\")\n",
        "\n",
        "        saldo = int(input(\"Ingrese su saldo inicial: \"))\n",
        "\n",
        "        numero_cuenta= random.randint(1,100000)\n",
        "\n",
        "        print(f\"Señor@ {self.nombre} su cuenta ha sido creada exitosamente\")\n",
        "        print(f\"Su saldo es de: $\",saldo,\"Su número de cuenta es: \",numero_cuenta)\n",
        "\n",
        "\n",
        "    def retirar(self, monto):\n",
        "\n",
        "        intencion = int(input(\"Si desea retirar dinero ingrese cualquier digito distinto de 0: \"))\n",
        "\n",
        "        if intencion:\n",
        "            if self.saldo >= monto:\n",
        "                self.saldo = (self.saldo)-monto\n",
        "                print(f\"Su saldo es de {self.saldo}\")\n",
        "            else:\n",
        "                print(\"Saldo insuficiente\")\n",
        "\n",
        "\n",
        "    def depositar(self, deposito):\n",
        "\n",
        "        intencion = int(input(\"Si desea depositar ingrese cualquier digito distinto de 0: \"))\n",
        "\n",
        "        if intencion:\n",
        "            self.saldo = self.saldo + deposito\n",
        "            print(\"Su nuevo saldo es de: $\",self.saldo)\n",
        "        else:\n",
        "            print (\"Feliz día\")\n",
        "\n",
        "\n",
        "    def revisar(self):\n",
        "\n",
        "        print(f\"Su saldo actual es de: ${self.saldo}\")\n",
        "\n",
        "\n",
        "\n",
        "\n",
        "nueva_cuenta = Banco(\"Messi\",\"jmontess@unal\",50000)\n",
        "\n",
        "nueva_cuenta.Crear_cuenta(\"Messi\", 50000)\n",
        "\n",
        "nueva_cuenta.retirar(20000)\n",
        "\n",
        "nueva_cuenta.depositar(150000)\n",
        "\n",
        "nueva_cuenta.revisar()"
      ],
      "metadata": {
        "id": "XPKTtx5fnQfn",
        "outputId": "40599018-a463-44f7-8ab5-6314677f6699",
        "colab": {
          "base_uri": "https://localhost:8080/"
        }
      },
      "execution_count": null,
      "outputs": [
        {
          "output_type": "stream",
          "name": "stdout",
          "text": [
            "Hola, Messi Vamos a crear su nueva cuenta\n",
            "Ingrese su saldo inicial: 5000\n",
            "Señor@ Messi su cuenta ha sido creada exitosamente\n",
            "Su saldo es de: $ 5000 Su número de cuenta es:  39010\n",
            "Si desea retirar dinero ingrese cualquier digito distinto de 0: 1\n",
            "Su saldo es de 30000\n",
            "Si desea depositar ingrese cualquier digito distinto de 0: 0\n",
            "Feliz día\n",
            "Su saldo actual es de: $30000\n"
          ]
        }
      ]
    },
    {
      "cell_type": "code",
      "source": [
        "class Student():\n",
        "    def __init__(self, nombre, edad, promedio):\n",
        "        self.nombre = nombre\n",
        "        self.edad = edad\n",
        "        self.promedio = promedio\n",
        "\n",
        "    def estudiar(self):\n",
        "\n",
        "        print(f\"El estudiante {self.nombre} está estudiando\")\n",
        "\n",
        "    def tareas(self):\n",
        "\n",
        "        print(f\"El estudiante {self.nombre} está haciendo sus tareas\")\n",
        "\n",
        "    def examen(self):\n",
        "\n",
        "        print(f\"El estudiante {self.nombre} presentará su examen \")\n",
        "\n",
        "\n",
        "\n",
        "Est = Student(\"Juanes\", 21, \"4.2\")\n",
        "\n",
        "Est.estudiar()\n",
        "\n",
        "Est.tareas()\n",
        "\n",
        "Est.examen()"
      ],
      "metadata": {
        "id": "QJUj6NN_neBT",
        "outputId": "92e71829-20f4-49cb-efb6-76e76e46f8a5",
        "colab": {
          "base_uri": "https://localhost:8080/"
        }
      },
      "execution_count": null,
      "outputs": [
        {
          "output_type": "stream",
          "name": "stdout",
          "text": [
            "El estudiante Juanes está estudiando\n",
            "El estudiante Juanes está haciendo sus tareas\n",
            "El estudiante Juanes presentará su examen \n"
          ]
        }
      ]
    }
  ]
}