{
  "nbformat": 4,
  "nbformat_minor": 0,
  "metadata": {
    "colab": {
      "private_outputs": true,
      "provenance": [],
      "include_colab_link": true
    },
    "kernelspec": {
      "name": "python3",
      "display_name": "Python 3"
    },
    "language_info": {
      "name": "python"
    }
  },
  "cells": [
    {
      "cell_type": "markdown",
      "metadata": {
        "id": "view-in-github",
        "colab_type": "text"
      },
      "source": [
        "<a href=\"https://colab.research.google.com/github/Kairos1708/Se-ales_y_Sistemas/blob/main/SYS_Parcial_2_Punto_3_JEMS.ipynb\" target=\"_parent\"><img src=\"https://colab.research.google.com/assets/colab-badge.svg\" alt=\"Open In Colab\"/></a>"
      ]
    },
    {
      "cell_type": "markdown",
      "source": [
        "# Case Western Reserve Experiments\n",
        "\n",
        "\n",
        "Sea la base de datos para el monitoreo de condición (fallos) en rodamientos a partir del análisis de vibraciones descrita en [Case Western Reserve Experiments](https://engineering.case.edu/bearingdatacenter). Las señales fueron adquiridas para las siguientes condiciones (clases): i) Normal bearing (Nor), fault in the internal train (IR1), fault in the external train (IR2), and fault in the rolling element-ball (BE). Además, los fallos se generaron para tres niveles de severidad (profundidad): 0.007′′, 0.014′′, and 0.021′′ y tres velocidades de operación (1730, 1750, 1772, and 1797 [rpm]). Los datos fueron adquiridos a 12 kHz. Por consiguiente, se tienen los siguientes parámetros de estudio: $F_s=12k$ [Hz] cantidad de puntos en el tiempo $4096$ y cantidad de clases $C = 10$.\n",
        "\n",
        "Grafique la señal promedio de cada fallo en el tiempo y en la frecuencia.\n",
        "\n",
        "Utilizando la transformada rápida de Fourier diseñe y construya un detector fallos en rodamientos a partir de señales de vibración y sus etiquetas en los arreglos Xtrain y Ytrain (ver cuaderno de apoyo). Genere las predicciones de fallos para el arreglo Xtest."
      ],
      "metadata": {
        "id": "RdP1id0o3Ry0"
      }
    },
    {
      "cell_type": "code",
      "execution_count": null,
      "metadata": {
        "id": "3lKHA47I1-UE"
      },
      "outputs": [],
      "source": [
        "#data downloaded for google drive\n",
        "FILEID = \"1IC11LrPCZIo_Am5eXP2p2tDAlrGTlPjn\"\n",
        "!wget --load-cookies /tmp/cookies.txt \"https://docs.google.com/uc?export=download&confirm=$(wget --quiet --save-cookies /tmp/cookies.txt --keep-session-cookies --no-check-certificate 'https://docs.google.com/uc?export=download&id='$FILEID -O- | sed -rn 's/.*confirm=([0-9A-Za-z_]+).*/\\1\\n/p')&id=\"$FILEID -O datos.zip && rm -rf /tmp/cookies.txt\n",
        "!unzip -o datos.zip\n",
        "!dir"
      ]
    },
    {
      "cell_type": "code",
      "source": [
        "#librerias\n",
        "import scipy.io as sio\n",
        "from sklearn.decomposition import PCA\n",
        "from sklearn.manifold import TSNE\n",
        "from sklearn.preprocessing import MinMaxScaler, StandardScaler\n",
        "import numpy as np\n",
        "import matplotlib.pyplot as plt\n",
        "from matplotlib.ticker import FormatStrFormatter\n",
        "import warnings\n",
        "from sklearn.metrics import pairwise_distances\n",
        "import matplotlib\n",
        "from sklearn.model_selection import train_test_split\n",
        "\n",
        "warnings.filterwarnings('ignore')\n",
        "\n",
        "#cargar datos\n",
        "path_ = 'CaractCE.mat'#Case Western Database\n",
        "dicX = sio.loadmat(path_)"
      ],
      "metadata": {
        "id": "FeQgT1n13EZI"
      },
      "execution_count": null,
      "outputs": []
    },
    {
      "cell_type": "code",
      "source": [
        "Xt = dicX['F'] #datos en el tiempo\n",
        "Fs = 12000 #frecuencia de muestreo\n",
        "Tl = Xt.shape[1]/Fs #tamaño del segmento\n",
        "print('Xt shape:',Xt.shape)\n",
        "print('tiempo [s]', Tl)\n",
        "\n",
        "Y = dicX['E']\n",
        "Ytrue = Y[:,2] #clases fallos en los rodamientos\n",
        "\n",
        "labels_ = ['NOR','IR1_0.007´´','IR1_0.014´´','IR1_0.021´´',\n",
        "           'IR2_0.007´´','IR2_0.014´´','IR2_0.021´´',\n",
        "           'BE_0.007´´','BE_0.014´´','BE_0.021´´'\n",
        "           ] #nombres de las clases"
      ],
      "metadata": {
        "id": "1yN9Ox193IbR"
      },
      "execution_count": null,
      "outputs": []
    },
    {
      "cell_type": "code",
      "source": [
        "print(Ytrue.shape) #etique membresia de los datos 10 posibles valores\n",
        "print(np.unique(Ytrue))"
      ],
      "metadata": {
        "id": "HbuSRvEN3K0-"
      },
      "execution_count": null,
      "outputs": []
    },
    {
      "cell_type": "code",
      "source": [
        "#partir datos para train y test\n",
        "Xtrain, Xtest, Ytrain, _ = train_test_split(Xt, Ytrue, test_size=0.3)\n",
        "\n",
        "print(f\"Xtrain shape {Xtrain.shape}, Ytrain shape {Ytrain.shape }Xtest shape {Xtest.shape} \")"
      ],
      "metadata": {
        "id": "x3TqREMU3LHz"
      },
      "execution_count": null,
      "outputs": []
    },
    {
      "cell_type": "code",
      "source": [
        "#calcular espectro de Fourier Xtrain\n",
        "vf = np.fft.rfftfreq(Xtrain.shape[1],1/Fs) #freq vector\n",
        "Xw = (abs(np.fft.rfft(Xtrain))) # FFT\n",
        "Xw.shape"
      ],
      "metadata": {
        "id": "r0VZN69T3auJ"
      },
      "execution_count": null,
      "outputs": []
    },
    {
      "cell_type": "code",
      "source": [
        "#calcular espectro de Fourier Xtest\n",
        "vf_te = np.fft.rfftfreq(Xtest.shape[1],1/Fs) #freq vector\n",
        "Xw_te = (abs(np.fft.rfft(Xtest))) # FFT\n",
        "Xw_te.shape"
      ],
      "metadata": {
        "id": "K0bcof7zD9TV"
      },
      "execution_count": null,
      "outputs": []
    },
    {
      "cell_type": "code",
      "source": [
        "#calcular espectro de Fourier Ytrain\n",
        "vf_tr = np.fft.rfftfreq(Ytrain.shape[1],1/Fs) #freq vector\n",
        "Xw_tr = (abs(np.fft.rfft(Ytrain))) # FFT\n",
        "Xw_tr.shape"
      ],
      "metadata": {
        "id": "x0wELwrbEPKK"
      },
      "execution_count": null,
      "outputs": []
    },
    {
      "cell_type": "code",
      "source": [
        "#graficar espectro para clases representativas\n",
        "sca_ = MinMaxScaler()\n",
        "Xw_ = sca_.fit_transform(Xw.T).T\n",
        "#red = TSNE(perplexity = 15,n_components=2,random_state=123,learning_rate='auto',init='pca')\n",
        "red = PCA(n_components=2)\n",
        "Z = red.fit_transform(Xw_)\n",
        "\n",
        "plt.scatter(Z[:,0],Z[:,1],c=Ytrain, label='Xtrain')\n",
        "plt.colorbar()\n",
        "plt.show()"
      ],
      "metadata": {
        "id": "fphITOjOYW2O"
      },
      "execution_count": null,
      "outputs": []
    },
    {
      "cell_type": "code",
      "source": [
        "\n",
        "Xftrain = np.fft.fft(c)\n",
        "Xftest = np.fft.fft(m)\n",
        "Xytrain = np.fft.fft(y)\n",
        "\n",
        "vfre = np.fft.fftfreq(len(c),1/Fs)\n",
        "\n",
        "plt.plot(vfre,abs(Xfy),label='modulado')\n",
        "plt.plot(vfre,abs(Xfm),label='mensaje')\n",
        "plt.plot(vfre,abs(Xfc),label='portadora')\n",
        "plt.legend()\n",
        "plt.xlabel('')\n",
        "plt.ylabel('')\n",
        "plt.ylim([min(abs(Xfm)), 1.1*max(abs(Xfm))])\n",
        "plt.show()"
      ],
      "metadata": {
        "id": "9V4MM5OxC8Xp"
      },
      "execution_count": null,
      "outputs": []
    }
  ]
}